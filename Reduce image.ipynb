{
 "cells": [
  {
   "cell_type": "markdown",
   "id": "5e3ae365",
   "metadata": {},
   "source": [
    "# Spectral extraction code for MIRI and NIRSpec"
   ]
  },
  {
   "cell_type": "markdown",
   "id": "e12f2a16",
   "metadata": {},
   "source": [
    "## Preparing the dataset"
   ]
  },
  {
   "cell_type": "markdown",
   "id": "73ba737c",
   "metadata": {},
   "source": [
    "The packages used are simple. I recommend to use Astroconda package "
   ]
  },
  {
   "cell_type": "code",
   "execution_count": 12,
   "id": "e91af24c",
   "metadata": {},
   "outputs": [],
   "source": [
    "from astropy.io import fits\n",
    "import numpy as np\n",
    "import matplotlib.pyplot as plt\n",
    "import glob, os\n",
    "import pandas as pd\n",
    "import time\n",
    "from matplotlib.pyplot import figure\n",
    "import math as mt\n",
    "\n",
    "time0 = time.perf_counter()"
   ]
  },
  {
   "cell_type": "markdown",
   "id": "f3460101",
   "metadata": {},
   "source": [
    "We define the directory where our cube is, called spec_dir. We must specify if we are extracting a uber cube (channels 1,2,3 and 4) or a subband cube (1-2-3-4 s-m-l). We specify this with the variables channel and band. In filesave is where our results will be stored. \n",
    "\n",
    "Low and up idebtify the limits of your spectral range. These must be inside the manifold of the spectral range of your cube. Finally scale is only used to change the units to the ones I want to use. If you want to use the standard JWST units, scale must be 1. According to the documentation, the PSF of MIRIsim is ovsersized, so we must multiply the intensity 1.1 times. If with the real data this is dixed, remove the line of 'scale=scale*1.1'.\n",
    "molec stores the information of the molecules to invert. If molec is 0 in every position, it only creates a spectra. If molec[0]=1, it inverts the temperature. The rest correspond to a certain molecule. If you want to invert one, put a 2 in that position."
   ]
  },
  {
   "cell_type": "code",
   "execution_count": 13,
   "id": "cfacc6b3",
   "metadata": {},
   "outputs": [],
   "source": [
    "spec_dir = '/home/povalle/notebook/data_products/'\n",
    "channel = '2'  # 1 // 2 // 3 // 4 // all\n",
    "band = 'short' # shor // medi // long // all\n",
    "filesave = '/home/povalle/notebook/extraction/data/'\n",
    "low = 1250\n",
    "up= 1325\n",
    "scale = 1e6*1e-26/((3.335641e-11)*1e4) # Changing to W/cm2 sr cm-1\n",
    "scale = scale*1.1 # because of the oversized PSF of MIRIsim (REMOVE WITH REAL DATA)\n",
    "molec = [1,0,2,0,0,0] # molecules to invert (in this case tempreature and nh3)\n",
    "\n",
    "#We write the filename for a specific subband\n",
    "\n",
    "if channel=='all':\n",
    "    filename = spec_dir + 'allcube_ch1-2-3-4-mediumshortlong-_s3d.fits'\n",
    "else:\n",
    "    filename = spec_dir + 'Level3_ch' + str(channel) + '-' + str(band) + '_s3d.fits'"
   ]
  },
  {
   "cell_type": "markdown",
   "id": "a97d12ff",
   "metadata": {},
   "source": [
    "We open the fits cube, and plot it only to check everything is ok. We save some parameters such as the reference pixel and the RA and DEC of that reference pixel."
   ]
  },
  {
   "cell_type": "code",
   "execution_count": 14,
   "id": "ffff81ba",
   "metadata": {},
   "outputs": [
    {
     "data": {
      "image/png": "[encoded data removed]",
      "text/plain": [
       "<Figure size 432x288 with 1 Axes>"
      ]
     },
     "metadata": {
      "needs_background": "light"
     },
     "output_type": "display_data"
    }
   ],
   "source": [
    "hdu = fits.open(filename)\n",
    "hdr = hdu['SCI'].header\n",
    "data = hdu['SCI'].data\n",
    "plt.imshow(data[100,:,:], cmap='inferno')\n",
    "RA = hdu['SCI'].header['RA_V1']\n",
    "DEC = hdu['SCI'].header['DEC_V1']\n",
    "CRPIX1 = hdu['SCI'].header['CRPIX1']\n",
    "CRPIX2 = hdu['SCI'].header['CRPIX2']"
   ]
  },
  {
   "cell_type": "markdown",
   "id": "72d9c25d",
   "metadata": {},
   "source": [
    "The simlatuion has been done by using MIRIsim. If you want to create one, check the directory where it is stored.\n",
    "\n",
    "The specification of the wavenumber varies depending on the data structure. Also there can be a shift in the final data. If in your dataset you don't have shifts (congrats!) remove the line."
   ]
  },
  {
   "cell_type": "code",
   "execution_count": 15,
   "id": "4092e8bf",
   "metadata": {},
   "outputs": [
    {
     "name": "stdout",
     "output_type": "stream",
     "text": [
      "45 37 (631,)\n"
     ]
    }
   ],
   "source": [
    "ny = data.shape[1]\n",
    "nx = data.shape[2]\n",
    "\n",
    "if channel=='all':\n",
    "    wave = hdu['WCS-TABLE'].data['wavelength'][0] #IF WORKING WITH 4 CHANNEL CUBE\n",
    "else:    \n",
    "    wave = np.arange(hdr['NAXIS3'])*hdr['CDELT3']+hdr['CRVAL3'] #IF WORKING WITH 1 CHANNEL or SUBBAND CUBE\n",
    "    \n",
    "wave = wave + 0.0033 # Shift, probably only in MIRIsim\n",
    "wave = np.array(wave)\n",
    "print(nx, ny, wave.shape)"
   ]
  },
  {
   "cell_type": "markdown",
   "id": "e8eb0813",
   "metadata": {},
   "source": [
    "We are doing serious business here. Hence, we use wavenumbers. Forget about that childish wavelength and transform your dataset in wavenumber. We take the exact limits in our wavenumber array."
   ]
  },
  {
   "cell_type": "code",
   "execution_count": 16,
   "id": "3beb5244",
   "metadata": {},
   "outputs": [],
   "source": [
    "# Define the limits low and up for the range of wavenumbers\n",
    "\n",
    "wavenumber = 10**4/wave\n",
    "for ix in range(len(wavenumber)):\n",
    "            if wavenumber[ix] < low:\n",
    "                lower = ix\n",
    "                break\n",
    "for iix in range(len(wavenumber)):\n",
    "            if wavenumber[iix] < up:\n",
    "                upper = iix\n",
    "                break"
   ]
  },
  {
   "cell_type": "markdown",
   "id": "1f5f1ec0",
   "metadata": {},
   "source": [
    "## Starting the extraction"
   ]
  },
  {
   "cell_type": "markdown",
   "id": "9e77e6c6",
   "metadata": {},
   "source": [
    "We sweep across our 2D image, and will extract the spectra for every one of these spaxels. We need to save for every spaxel the spectra with the number of points, and the .fuel file (explained in inversion repository). \n",
    "1. We check if there is info in this spaxel. If there is no info, we move to the next one.\n",
    "2. If there is info, we create the good format for .spe, with wavenumber, intensity and the error. \n",
    "3. We save this file and counth the number of points. After that we write it in the header of the file.\n",
    "4. We must also develop a way to know the latitude and longitude of the spaxel. Here I show you a super naive way that cannot be used normally.  A next data structure in the fits file itslef will contain data about the lat and lon in every spaxel.\n",
    "5. We create the .fuel, with data about the latitude, the emission angle, and the molecules we want to invert.\n",
    "6. We check how much time takes to the inversion (around 10 sec.)."
   ]
  },
  {
   "cell_type": "code",
   "execution_count": 17,
   "id": "2a103102",
   "metadata": {},
   "outputs": [
    {
     "name": "stdout",
     "output_type": "stream",
     "text": [
      "Runtime of the extraction: 6.0 seconds\n",
      "Runtime of the extraction: 0.1 minutes\n",
      " \n",
      "Saved in /home/povalle/notebook/extraction/data/\n"
     ]
    }
   ],
   "source": [
    "time0 = time.perf_counter()\n",
    "\n",
    "for i in range(ny):\n",
    "    for ii in range(nx):       \n",
    "\n",
    "# 1\n",
    "        if int(sum(data[10:260,i,ii])) == 0:  # IT IS NOT TAKING INTO ACCOUNT CHANNEL 4 (Change if needed)\n",
    "            pass\n",
    "\n",
    "        else:  \n",
    "# 2            \n",
    "            spe = data[:,i,ii]\n",
    "            spe = spe*scale\n",
    "            error = hdu['ERR'].data[:,i,ii]\n",
    "            error = error*scale\n",
    "            d = {'wavel': wave, 'spe': spe, 'error':error}\n",
    "            df = pd.DataFrame(data=d)\n",
    "            df['wavel']=10**4/df['wavel']\n",
    "            df=df.iloc[::-1]          \n",
    "            df = df.loc[lower:upper]\n",
    "        \n",
    "            df['wavel'] = df['wavel'].map('{:.2f}'.format)\n",
    "            df['spe'] = df['spe'].map('{:.5e}'.format)\n",
    "            df['error'] = df['error'].map('{:.5e}'.format)  \n",
    "# 3\n",
    "            newfilesave = filesave + str(\"{:02}\".format(i)) + '-' + str(\"{:02}\".format(ii)) + '-jupiter_ch4.spe'        \n",
    "            df.to_csv(newfilesave  , header=None, \n",
    "                  index=None, sep=' ')\n",
    "            size=len(df)\n",
    "            filename1=newfilesave\n",
    "            line='0'\n",
    "            def line_prepender(filename1, line):\n",
    "                with open(filename1, 'r+') as f:\n",
    "                    content = f.read()\n",
    "                    f.seek(0, 0)\n",
    "                    f.write(str(size) + '\\n' + content)\n",
    "\n",
    "            line_prepender(filename1,line)\n",
    "            file1=newfilesave\n",
    "            with open(file1, 'r') as file :\n",
    "              filedata = file.read()\n",
    "            filedata = filedata.replace(' ','  ')\n",
    "            filedata = filedata.replace('\\n','\\n      ')\n",
    "            with open(file1, 'w') as file:\n",
    "              file.write(filedata)\n",
    "# 4            \n",
    "###############################################################################################\n",
    "            \n",
    "            latmid = -22 # Lat in the middle of the image\n",
    "            lonmid = 10 # Lon in the middle of the image\n",
    "            pixlat = 0.71 # lat degrees per pixel\n",
    "            pixlon = 0.53 # lon degrees per pixel\n",
    "    \n",
    "            theta1 = 0 \n",
    "            phi1 = 0\n",
    "            #theta2 = latmid - (18-i)*pixlat  #empirical way\n",
    "            theta2 = -12.758\n",
    "            phi2 = lonmid + (22-ii)*pixlon    #empirical way\n",
    "            theta1r = mt.radians(theta1)\n",
    "            phi1r = mt.radians(phi1) \n",
    "            theta2r = mt.radians(theta2) \n",
    "            phi2r= mt.radians(phi2) \n",
    "            #costheta = np.sin(theta1r)*np.sin(theta2r)+np.cos(theta1r)*np.cos(theta2r)*np.cos(phi1r-phi2r)\n",
    "            costheta = 1\n",
    "\n",
    "###############################################################################################            \n",
    "# 5            \n",
    "            theta2 = '{0:.3f}'.format(theta2)\n",
    "            costheta = '{0:.3f}'.format(costheta)\n",
    "            fuelname = filesave + str(\"{:02}\".format(i)) + '-' + str(\"{:02}\".format(ii)) + '-jupiter_ch4.fuel'\n",
    "            \n",
    "            f  = open(fuelname, \"w+\")\n",
    "            f.write(str(theta2) + ' ! latitude (degree)\\n')\n",
    "            f.write('  1.000 ! cos(incidence angle)\\n')\n",
    "            f.write('  ' + str(costheta) + ' ! cos(incidence angle)\\n')\n",
    "            f.write('  \\n')\n",
    "            f.write('  0.500 ! fwhm (cm-1)\\n')\n",
    "            f.write('  \\n')\n",
    "            f.write('    ch5 1.000E+00 ' + str(molec[0]) + '\\n')\n",
    "            f.write('   ch3e 1.624E+03 ' + str(molec[1]) + '\\n')\n",
    "            f.write('    nh3 1.000E+00 ' + str(molec[2]) + '\\n')\n",
    "            f.write('    ph3 1.000E+00 ' + str(molec[3]) + '\\n')\n",
    "            f.write('   c2h3 1.000E+00 ' + str(molec[4]) + '\\n')\n",
    "            f.write('   c2h6 1.000E+00 ' + str(molec[5]) + '\\n')\n",
    "            f.close()        \n",
    "# 6\n",
    "time1 = time.perf_counter()\n",
    "print(f\"Runtime of the extraction: {time1 - time0:0.1f} seconds\")\n",
    "time2=(time1 - time0)/60\n",
    "print(f\"Runtime of the extraction: {time2:0.1f} minutes\")\n",
    "print(' ')\n",
    "print('Saved in ' + filesave)"
   ]
  }
 ],
 "metadata": {
  "kernelspec": {
   "display_name": "Python 3 (ipykernel)",
   "language": "python",
   "name": "python3"
  },
  "language_info": {
   "codemirror_mode": {
    "name": "ipython",
    "version": 3
   },
   "file_extension": ".py",
   "mimetype": "text/x-python",
   "name": "python",
   "nbconvert_exporter": "python",
   "pygments_lexer": "ipython3",
   "version": "3.7.11"
  }
 },
 "nbformat": 4,
 "nbformat_minor": 5
}
